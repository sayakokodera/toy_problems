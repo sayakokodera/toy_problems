{
 "cells": [
  {
   "cell_type": "code",
   "execution_count": 1,
   "id": "b7cc06be-0dfe-4c1a-a733-9d546ddcaf9a",
   "metadata": {},
   "outputs": [],
   "source": [
    "import numpy as np\n",
    "from scipy.stats import gaussian_kde\n",
    "from scipy.integrate import dblquad"
   ]
  },
  {
   "cell_type": "code",
   "execution_count": null,
   "id": "b2f1670e-134f-4490-a896-99a719e0cd7d",
   "metadata": {},
   "outputs": [],
   "source": [
    "# Functions\n",
    "# Kernel density estimator\n",
    "def joint_kde(x1, x2):\n",
    "    \"\"\"\n",
    "    Parameters\n",
    "    ----------\n",
    "        x1: float or array like\n",
    "        \n",
    "    \"\"\"\n",
    "    # Joint KDE for two RVs: \n",
    "    data = np.vstack([v1, v4])\n",
    "    kde_joint = gaussian_kde(data)\n",
    "\n",
    "    # Marginal KDEs for p(v1) and p(v4)\n",
    "    kde_v1 = gaussian_kde(v1)\n",
    "    kde_v4 = gaussian_kde(v4)\n",
    "\n",
    "    return kde_joint, kde_v1, kde_v4\n",
    "\n",
    "# Mutual informaiton\n",
    "def compute_mutual_information(kde_joint, kde_v1, kde_v4, v1_range, v4_range):\n",
    "    \"\"\"Compute mutual information I(V1; V4) via numerical integration.\"\"\"\n",
    "    def integrand(v1, v4):\n",
    "        p_joint = kde_joint([v1, v4])[0]\n",
    "        p_v1 = kde_v1(v1)[0]\n",
    "        p_v4 = kde_v4(v4)[0]\n",
    "        if p_joint > 0 and p_v1 > 0 and p_v4 > 0:\n",
    "            return p_joint * np.log(p_joint / (p_v1 * p_v4))\n",
    "        else:\n",
    "            return 0.0\n",
    "\n",
    "    # Integrate over the ranges of V1 and V4\n",
    "    mi, _ = dblquad(integrand, v4_range[0], v4_range[1], lambda _: v1_range[0], lambda _: v1_range[1])\n",
    "    return mi"
   ]
  }
 ],
 "metadata": {
  "kernelspec": {
   "display_name": "Python 3 (ipykernel)",
   "language": "python",
   "name": "python3"
  },
  "language_info": {
   "codemirror_mode": {
    "name": "ipython",
    "version": 3
   },
   "file_extension": ".py",
   "mimetype": "text/x-python",
   "name": "python",
   "nbconvert_exporter": "python",
   "pygments_lexer": "ipython3",
   "version": "3.13.1"
  }
 },
 "nbformat": 4,
 "nbformat_minor": 5
}
